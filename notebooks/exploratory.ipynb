{
 "cells": [
  {
   "cell_type": "code",
   "execution_count": null,
   "metadata": {},
   "outputs": [],
   "source": [
    "import os\n",
    "import sys\n",
    "import numpy as np\n",
    "import logging\n",
    "import pandas as pd\n",
    "import matplotlib.pyplot as plt\n",
    "import seaborn as sns"
   ]
  },
  {
   "cell_type": "code",
   "execution_count": null,
   "metadata": {},
   "outputs": [],
   "source": [
    "%load_ext autoreload\n",
    "%autoreload 2"
   ]
  },
  {
   "cell_type": "code",
   "execution_count": null,
   "metadata": {},
   "outputs": [],
   "source": [
    "sys.path.append('../src')\n",
    "sys.path.append('../visualizations')"
   ]
  },
  {
   "cell_type": "code",
   "execution_count": null,
   "metadata": {},
   "outputs": [],
   "source": [
    "import etl\n",
    "import viz\n",
    "import analysis\n",
    "from helper_functions import calculate_true_shooting\n",
    "from helper_functions import calculate_groupby_ts"
   ]
  },
  {
   "cell_type": "code",
   "execution_count": null,
   "metadata": {},
   "outputs": [],
   "source": [
    "crowder_df = etl.get_player_gamelog('../data/crowder_playoffs.csv')\n",
    "wesmatt_df = etl.get_player_gamelog('../data/wesmatt_playoffs.csv')\n",
    "pj_df = etl.get_player_gamelog('../data/pj_playoffs.csv')"
   ]
  },
  {
   "cell_type": "code",
   "execution_count": null,
   "metadata": {},
   "outputs": [],
   "source": [
    "crowder_df['Tm'].unique()"
   ]
  },
  {
   "cell_type": "code",
   "execution_count": null,
   "metadata": {},
   "outputs": [],
   "source": [
    "crowder_df['TS'].describe()"
   ]
  },
  {
   "cell_type": "code",
   "execution_count": null,
   "metadata": {},
   "outputs": [],
   "source": [
    "wesmatt_df['TS'].describe()"
   ]
  },
  {
   "cell_type": "code",
   "execution_count": null,
   "metadata": {},
   "outputs": [],
   "source": [
    "pj_df['TS'].describe()"
   ]
  },
  {
   "cell_type": "code",
   "execution_count": null,
   "metadata": {},
   "outputs": [],
   "source": [
    "viz.plot_ts_histogram(crowder_df, 'Jae Crowder')"
   ]
  },
  {
   "cell_type": "code",
   "execution_count": null,
   "metadata": {},
   "outputs": [],
   "source": [
    "viz.plot_ts_by_year(crowder_df, 'Jae Crowder', True)"
   ]
  },
  {
   "cell_type": "code",
   "execution_count": null,
   "metadata": {},
   "outputs": [],
   "source": [
    "crowder_df['G#'].value_counts()"
   ]
  },
  {
   "cell_type": "code",
   "execution_count": null,
   "metadata": {},
   "outputs": [],
   "source": [
    "viz.plot_ts_by_game(crowder_df, 'Jae Crowder')"
   ]
  },
  {
   "cell_type": "code",
   "execution_count": null,
   "metadata": {},
   "outputs": [],
   "source": [
    "analysis.get_ts_by_series(crowder_df)"
   ]
  },
  {
   "cell_type": "code",
   "execution_count": null,
   "metadata": {},
   "outputs": [],
   "source": [
    "analysis.get_ts_by_game(crowder_df)"
   ]
  },
  {
   "cell_type": "code",
   "execution_count": null,
   "metadata": {},
   "outputs": [],
   "source": [
    "analysis.get_ts_by_series_and_game(crowder_df)"
   ]
  },
  {
   "cell_type": "code",
   "execution_count": null,
   "metadata": {},
   "outputs": [],
   "source": [
    "analysis.get_ts_by_home_away(crowder_df)"
   ]
  },
  {
   "attachments": {},
   "cell_type": "markdown",
   "metadata": {},
   "source": [
    "## Things to Do\n",
    "\n",
    "### Charting and Analysis\n",
    "\n",
    "- <input type='checkbox'>Histogram of true shooting</input>\n",
    "- <input type='checkbox'>Chart of true shooting</input>\n",
    "- <input type='checkbox'>Calculate number above/below average ts in a row</input>\n",
    "- <input type='checkbox'>Get mean/median</input>\n",
    "- <input type='checkbox'>Heat map of Game vs Series</input>\n",
    "- <input type='checkbox'>True shooting over time</input>\n",
    "- <input type='checkbox'>Plot both hot and low streaks on same bar graph, with cold streaks as negative and blue, hot streaks as positive and orange</input>\n",
    "- <input type='checkbox'>How often did team lose when crowder shot poorly</input>\n",
    "- <input type='checkbox'>Home x Away splits</input>\n",
    "- <input type='checkbox'>Correlation from one game's shooting to the next</input>\n",
    "- <input type='checkbox'>Home/Away shooting splits</input>\n",
    "- <input type='checkbox'>Smoothing function</input>\n",
    "- <input type='checkbox'>True shooting describe</input>"
   ]
  },
  {
   "cell_type": "code",
   "execution_count": null,
   "metadata": {},
   "outputs": [],
   "source": [
    "viz.plot_ts_vs_time(crowder_df, 'Jae Crowder', download = True)"
   ]
  },
  {
   "cell_type": "code",
   "execution_count": null,
   "metadata": {},
   "outputs": [],
   "source": [
    "viz.plot_ts_vs_time(wesmatt_df, 'Wesley Matthews', download = True)"
   ]
  },
  {
   "cell_type": "code",
   "execution_count": null,
   "metadata": {},
   "outputs": [],
   "source": [
    "viz.plot_ts_vs_time(pj_df, 'PJ Tucker', download = True)"
   ]
  },
  {
   "cell_type": "code",
   "execution_count": null,
   "metadata": {},
   "outputs": [],
   "source": [
    "viz.plot_ts_histogram(crowder_df, 'Jae Crowder', download = True)"
   ]
  },
  {
   "cell_type": "code",
   "execution_count": null,
   "metadata": {},
   "outputs": [],
   "source": [
    "viz.plot_ts_histogram(wesmatt_df, 'Wesley Matthews', download = True)"
   ]
  },
  {
   "cell_type": "code",
   "execution_count": null,
   "metadata": {},
   "outputs": [],
   "source": [
    "viz.plot_ts_histogram(pj_df, 'PJ Tucker', download = True)"
   ]
  },
  {
   "cell_type": "code",
   "execution_count": null,
   "metadata": {},
   "outputs": [],
   "source": [
    "#This weights every game evenly, is that right though? Probably not, may be a bit deceiving\n",
    "crowder_df[['Home/Away', 'TS%']].groupby('Home/Away').mean()"
   ]
  },
  {
   "cell_type": "code",
   "execution_count": null,
   "metadata": {},
   "outputs": [],
   "source": [
    "#Average TS% for SF in 2022 Playoffs according to statmuse\n",
    "SF_AVG_TS = .567\n",
    "#Average TS% for PF in 2022 Playoffs according to statmuse\n",
    "PF_AVG_TS = .585"
   ]
  },
  {
   "cell_type": "code",
   "execution_count": null,
   "metadata": {},
   "outputs": [],
   "source": [
    "crowder_df_playoffs = analysis.get_ts_by_series_and_game(crowder_df)"
   ]
  },
  {
   "cell_type": "code",
   "execution_count": null,
   "metadata": {},
   "outputs": [],
   "source": [
    "viz.plot_game_series_heatmap(crowder_df, 'Jae Crowder')"
   ]
  },
  {
   "cell_type": "code",
   "execution_count": null,
   "metadata": {},
   "outputs": [],
   "source": [
    "plt.figure(figsize=(12,8))\n",
    "sns.heatmap(crowder_df.groupby(['Series', 'G#']).apply(lambda x: calculate_groupby_ts(x)).unstack(), annot=True, fmt='.3f', cmap=sns.light_palette(viz.BUCKS_GREEN), center=viz.SF_AVG_TS, cbar=False)"
   ]
  },
  {
   "cell_type": "code",
   "execution_count": null,
   "metadata": {},
   "outputs": [],
   "source": [
    "crowder_df_hot_streaks = analysis.get_hot_streaks(crowder_df)"
   ]
  },
  {
   "cell_type": "code",
   "execution_count": null,
   "metadata": {},
   "outputs": [],
   "source": [
    "crowder_df_hot_streaks"
   ]
  },
  {
   "cell_type": "code",
   "execution_count": null,
   "metadata": {},
   "outputs": [],
   "source": [
    "pj_df_hot_streaks = analysis.get_hot_streaks(pj_df)"
   ]
  },
  {
   "cell_type": "code",
   "execution_count": null,
   "metadata": {},
   "outputs": [],
   "source": [
    "wesmatt_df_hot_streaks = analysis.get_hot_streaks(wesmatt_df)"
   ]
  },
  {
   "cell_type": "code",
   "execution_count": null,
   "metadata": {},
   "outputs": [],
   "source": [
    "crowder_df_hot_streaks['Streak Length (Games)'].mean()"
   ]
  },
  {
   "cell_type": "code",
   "execution_count": null,
   "metadata": {},
   "outputs": [],
   "source": [
    "pj_df_hot_streaks['Streak Length (Games)'].mean()"
   ]
  },
  {
   "cell_type": "code",
   "execution_count": null,
   "metadata": {},
   "outputs": [],
   "source": [
    "wesmatt_df_hot_streaks['Streak Length (Games)'].mean()"
   ]
  },
  {
   "cell_type": "code",
   "execution_count": null,
   "metadata": {},
   "outputs": [],
   "source": [
    "crowder_df_cold_streaks = analysis.get_cold_streaks(crowder_df)\n",
    "wesmatt_df_cold_streaks = analysis.get_cold_streaks(wesmatt_df)\n",
    "pj_df_cold_streaks = analysis.get_cold_streaks(pj_df)"
   ]
  },
  {
   "cell_type": "code",
   "execution_count": null,
   "metadata": {},
   "outputs": [],
   "source": [
    "crowder_df_cold_streaks['Streak Length (Games)']#.mean()"
   ]
  },
  {
   "cell_type": "code",
   "execution_count": null,
   "metadata": {},
   "outputs": [],
   "source": [
    "pj_df_cold_streaks['Streak Length (Games)'].mean()"
   ]
  },
  {
   "cell_type": "code",
   "execution_count": null,
   "metadata": {},
   "outputs": [],
   "source": [
    "wesmatt_df_cold_streaks['Streak Length (Games)'].mean()"
   ]
  },
  {
   "cell_type": "code",
   "execution_count": null,
   "metadata": {},
   "outputs": [],
   "source": [
    "plt.hist(((wesmatt_df['TS%'] - wesmatt_df['TS%'].mean()) * (wesmatt_df['FGA'] + wesmatt_df['FTA'] / 2) + (wesmatt_df['TS%'].mean() * (wesmatt_df['FGA'].mean() + wesmatt_df['FTA'].mean() / 2))), bins = np.arange(-1, 12, 1))"
   ]
  }
 ],
 "metadata": {
  "kernelspec": {
   "display_name": "Python 3.9.12 ('base')",
   "language": "python",
   "name": "python3"
  },
  "language_info": {
   "codemirror_mode": {
    "name": "ipython",
    "version": 3
   },
   "file_extension": ".py",
   "mimetype": "text/x-python",
   "name": "python",
   "nbconvert_exporter": "python",
   "pygments_lexer": "ipython3",
   "version": "3.9.12"
  },
  "orig_nbformat": 4,
  "vscode": {
   "interpreter": {
    "hash": "3067ead486e059ec00ffe7555bdb889e6e264a24dc711bf108106cc7baee8d5d"
   }
  }
 },
 "nbformat": 4,
 "nbformat_minor": 2
}
